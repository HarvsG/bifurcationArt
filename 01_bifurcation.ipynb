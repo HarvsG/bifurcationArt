{
 "cells": [
  {
   "cell_type": "markdown",
   "metadata": {},
   "source": [
    "# 12.1. Plotting the bifurcation diagram of a chaotic dynamical system\n",
    "Credit: https://github.com/ipython-books/cookbook-2nd-code/blob/master/chapter12_deterministic/01_bifurcation.ipynb\n",
    "\n",
    "The purpose of this notebook to to try and re-create this image for printing:\n",
    "![text](https://freight.cargo.site/w/900/q/94/i/5842694b2e9449892f149b803b0fcf763355a773dbcca96b54f11b5047c089db/logistics03e1_o.jpg)"
   ]
  },
  {
   "cell_type": "code",
   "execution_count": 1,
   "metadata": {},
   "outputs": [],
   "source": [
    "import numpy as np\n",
    "import pandas as pd\n",
    "import altair as alt\n",
    "import matplotlib.pyplot as plt\n",
    "%matplotlib inline"
   ]
  },
  {
   "cell_type": "markdown",
   "metadata": {},
   "source": [
    "A functional version of the logistic map which can be iterated recurrsively\n",
    "\n",
    "$\\displaystyle x_{n+1}=rx_{n}\\left(1-x_{n}\\right)$"
   ]
  },
  {
   "cell_type": "code",
   "execution_count": 2,
   "metadata": {},
   "outputs": [],
   "source": [
    "def logistic(r, x):\n",
    "    return r * x * (1 - x)"
   ]
  },
  {
   "cell_type": "markdown",
   "metadata": {},
   "source": [
    "Lets graph the above function with $r = 2$\n",
    "\n",
    "$\\displaystyle y=2x\\left(1-x\\right)$"
   ]
  },
  {
   "cell_type": "code",
   "execution_count": 3,
   "metadata": {
    "podoc": {
     "output_text": "<matplotlib.figure.Figure at 0x7f994e75dc88>"
    }
   },
   "outputs": [
    {
     "data": {
      "text/plain": [
       "[<matplotlib.lines.Line2D at 0x6c9db830>]"
      ]
     },
     "execution_count": 3,
     "metadata": {},
     "output_type": "execute_result"
    },
    {
     "data": {
      "image/png": "[encoded data removed]",
      "text/plain": [
       "<Figure size 432x288 with 1 Axes>"
      ]
     },
     "metadata": {
      "needs_background": "light"
     },
     "output_type": "display_data"
    }
   ],
   "source": [
    "x = np.linspace(0, 1) # create a series from 0 to 1\n",
    "fig, ax = plt.subplots(1, 1)\n",
    "ax.plot(x, logistic(2, x), 'k') # create a plot of y = logistic(2,x)"
   ]
  },
  {
   "cell_type": "code",
   "execution_count": 4,
   "metadata": {
    "podoc": {
     "output_text": "<matplotlib.figure.Figure at 0x7f994e4f7c50>"
    }
   },
   "outputs": [],
   "source": [
    "def plot_system(r, x0, n, ax=None):\n",
    "    # Plot the function and the\n",
    "    # y=x diagonal line.\n",
    "    t = np.linspace(0, 1)\n",
    "    ax.plot(t, logistic(r, t), 'k', lw=2)\n",
    "    ax.plot([0, 1], [0, 1], 'k', lw=2)\n",
    "\n",
    "    # Recursively apply y=f(x) and plot two lines:\n",
    "    # (x, x) -> (x, y)\n",
    "    # (x, y) -> (y, y)\n",
    "    x = x0\n",
    "    for i in range(n):\n",
    "        y = logistic(r, x)\n",
    "        # Plot the two lines.\n",
    "        ax.plot([x, x], [x, y], 'k', lw=1)\n",
    "        ax.plot([x, y], [y, y], 'k', lw=1)\n",
    "        # Plot the positions with increasing\n",
    "        # opacity.\n",
    "        ax.plot([x], [y], 'ok', ms=10,\n",
    "                alpha=(i + 1) / n)\n",
    "        x = y\n",
    "\n",
    "    ax.set_xlim(0, 1)\n",
    "    ax.set_ylim(0, 1)\n",
    "    ax.set_title(f\"$r={r:.1f}, \\, x_0={x0:.1f}$\")\n",
    "\n",
    "\n",
    "#fig, (ax1, ax2) = plt.subplots(1, 2, figsize=(12, 6),\n",
    "#                               sharey=True)\n",
    "#plot_system(2.5, .1, 10, ax=ax1)\n",
    "#plot_system(3.5, .1, 10, ax=ax2)"
   ]
  },
  {
   "cell_type": "code",
   "execution_count": 5,
   "metadata": {},
   "outputs": [],
   "source": [
    "def convergance_data(r_low=0, # the lowest value of r\n",
    "                     r_high=6, # the highest value of r\n",
    "                     n=5000, # n is the number of points to take between r_low and r_high\n",
    "                     iterations = 10000, # the nnumber of times to iterate logistic() in the hope 'stability is reached'\n",
    "                     last=100, # the number of points to take from the end of the iteration to plot\n",
    "                     ax = False,\n",
    "                     alpha = 0.1\n",
    "                    ):\n",
    "    assert(iterations>last)\n",
    "    x = 1e-5 * np.ones(n) # a series of 0.0005s to feed in as the starting point\n",
    "    r = np.linspace(r_low, r_high, n) # a series between r_low and r_high with n divisions\n",
    "    df = pd.DataFrame(index=r) # generate an empty dataframe\n",
    "    \n",
    "    for i in range(iterations):\n",
    "    # perform {iterations} iterations of the logistic function\n",
    "    \n",
    "        x = logistic(df.index, x)\n",
    "        if i % 1000 == 0:\n",
    "            print('iteration'+str(i)+' of '+str(iterations)) \n",
    "        \n",
    "        if i >= (iterations - last):\n",
    "            if ax != False:\n",
    "                ax.plot(x,df.index, marker=',',color = '#18284d', alpha=alpha)\n",
    "            else:\n",
    "                # store the last {last} values in the df\n",
    "                df['iter'+str(i)]=x         \n",
    "    if ax == False:    \n",
    "        return df\n"
   ]
  },
  {
   "cell_type": "code",
   "execution_count": 6,
   "metadata": {
    "jupyter": {
     "source_hidden": true
    }
   },
   "outputs": [],
   "source": [
    "#r_low, r_high = (2.5 , 4.0)\n",
    "#df = convergance_data(r_low=r_low, r_high=r_high,n=5000,iterations = 10000,last=100)"
   ]
  },
  {
   "cell_type": "code",
   "execution_count": 7,
   "metadata": {
    "jupyter": {
     "source_hidden": true
    }
   },
   "outputs": [],
   "source": [
    "#df.shape"
   ]
  },
  {
   "cell_type": "code",
   "execution_count": 8,
   "metadata": {
    "jupyter": {
     "source_hidden": true
    }
   },
   "outputs": [],
   "source": [
    "#alt.Chart(df.reset_index()).mark_circle(size=10).encode(\n",
    "#    x='index',\n",
    "#    y='900:Q',\n",
    "#).interactive()"
   ]
  },
  {
   "cell_type": "code",
   "execution_count": 9,
   "metadata": {},
   "outputs": [],
   "source": [
    "def stack(df):\n",
    "    stacked = (df\n",
    "               .stack() # convert data to longform so each iteration is a sub-index\n",
    "               .reset_index() # make the indexes columns\n",
    "               .drop('level_1',axis=1) # drop the column that was the list of the iteration numbers\n",
    "               #.drop_duplicates() # for quicker graphing drop duplicate values MAY NEED removing for final product\n",
    "              )\n",
    "    stacked.columns = stacked.columns.astype(str) # make sure column titles are strings otherwise altair gets stroppy\n",
    "    return stacked\n",
    "\n"
   ]
  },
  {
   "cell_type": "code",
   "execution_count": 10,
   "metadata": {
    "jupyter": {
     "source_hidden": true
    }
   },
   "outputs": [],
   "source": [
    "#stacked = stack(df)\n",
    "#sample = stacked.drop_duplicates().sample(900) # create a sample for quick graphing"
   ]
  },
  {
   "cell_type": "code",
   "execution_count": 11,
   "metadata": {
    "jupyter": {
     "source_hidden": true
    }
   },
   "outputs": [],
   "source": [
    "#alt.Chart(sample).mark_circle(size=2).encode(\n",
    "#    alt.X('level_0:Q',\n",
    "#        scale=alt.Scale(zero=False)\n",
    "#    ),\n",
    "#    y='0:Q',\n",
    "#)"
   ]
  },
  {
   "cell_type": "markdown",
   "metadata": {},
   "source": [
    "Great, this is the logistic map bifurcation diagram, now I want to try to make a pretty graph that echos [this](https://freight.cargo.site/t/original/i/5842694b2e9449892f149b803b0fcf763355a773dbcca96b54f11b5047c089db/logistics03e1_o.jpg)\n",
    "![text](https://freight.cargo.site/w/900/q/94/i/5842694b2e9449892f149b803b0fcf763355a773dbcca96b54f11b5047c089db/logistics03e1_o.jpg)"
   ]
  },
  {
   "cell_type": "code",
   "execution_count": 12,
   "metadata": {
    "jupyter": {
     "source_hidden": true
    }
   },
   "outputs": [],
   "source": [
    "#img_stacked = stack(convergance_data(r_low=3.44, r_high=6,n=5000,iterations = 10000,last=100))\n",
    "#img_sample = img_stacked.drop_duplicates().sample(900) # create a sample for quick graphing"
   ]
  },
  {
   "cell_type": "markdown",
   "metadata": {},
   "source": [
    "Now for mountain art I want also to swap the x and y axis and have an inverted y axis"
   ]
  },
  {
   "cell_type": "code",
   "execution_count": 13,
   "metadata": {
    "jupyter": {
     "source_hidden": true
    }
   },
   "outputs": [],
   "source": [
    "#img = alt.Chart(img_sample).mark_circle(size=2).encode(\n",
    "#    alt.Y('level_0:Q',\n",
    "#        scale=alt.Scale(domain=[r_high,3.42])\n",
    "#    ),\n",
    "#    alt.X('0:Q')\n",
    "#)\n",
    "\n",
    "#img"
   ]
  },
  {
   "cell_type": "markdown",
   "metadata": {},
   "source": [
    "The original image is about 16:9 and has no lines"
   ]
  },
  {
   "cell_type": "code",
   "execution_count": 14,
   "metadata": {
    "jupyter": {
     "source_hidden": true
    }
   },
   "outputs": [],
   "source": [
    "#inches = 2 # set to desired width in inches\n",
    "#ratio = 16/9 # set the width/height ratio of the desired plot\n",
    "#img.configure_axis(\n",
    "#    grid=False\n",
    "#).configure_view(\n",
    "#    strokeWidth=0\n",
    "#).properties(\n",
    "#    height = inches*300/ratio,\n",
    "#    width = inches*300\n",
    "#)\n",
    "\n"
   ]
  },
  {
   "cell_type": "markdown",
   "metadata": {},
   "source": [
    "Starting to look even better, now for the final product"
   ]
  },
  {
   "cell_type": "code",
   "execution_count": 41,
   "metadata": {},
   "outputs": [],
   "source": [
    "inches = 36 # set to desired width in inches\n",
    "dpi = 300 # this is the desired dots per inch\n",
    "ratio = 16/9 # set the width/height ratio of the desired plot\n",
    "pdr = 1/1 # this is the number of pixels per dot\n",
    "iterations = 10000+int(inches*dpi*pdr) # set to 10000 for final run\n",
    "r_low, r_high= (3.448,4.0)\n",
    "#final_stacked = stack(convergance_data(r_low=r_low, r_high=r_high,n=int(inches*dpi/ratio*pdr),iterations = 10000,last=int(inches*dpi*pdr)))\n",
    "#final_stacked.shape"
   ]
  },
  {
   "cell_type": "code",
   "execution_count": 42,
   "metadata": {
    "jupyter": {
     "source_hidden": true
    }
   },
   "outputs": [],
   "source": [
    "#rows, cols = final_stacked.shape\n",
    "#assert(rows < 8000000)\n",
    "#final_sample = final_stacked.sample(900) # create a sample for quick graphing"
   ]
  },
  {
   "cell_type": "code",
   "execution_count": 43,
   "metadata": {
    "jupyter": {
     "source_hidden": true
    }
   },
   "outputs": [
    {
     "data": {
      "text/plain": [
       "\"\\nalt.data_transformers.disable_max_rows() # we are going to be e\\nchart = alt.Chart(final_stacked).mark_circle(size=1/pdr, opacity=pdr, color = '#18284d').encode(\\n    alt.Y('level_0:Q',\\n        scale=alt.Scale(domain=[r_high,r_low]),\\n          axis =None\\n    ),\\n    alt.X('0:Q', \\n          axis=None)\\n).configure_axis(\\n    grid=False\\n).configure_view(\\n    strokeWidth=0\\n).properties(\\n    height = inches*300/ratio,\\n    width = inches*300\\n)\\n#chart.save('chart.svg')\\nchart.save('chart.html')\\nchart.save('chart.png', scale_factor = 2.0)\\n#chart\\n\""
      ]
     },
     "execution_count": 43,
     "metadata": {},
     "output_type": "execute_result"
    }
   ],
   "source": [
    "'''\n",
    "alt.data_transformers.disable_max_rows() # we are going to be e\n",
    "chart = alt.Chart(final_stacked).mark_circle(size=1/pdr, opacity=pdr, color = '#18284d').encode(\n",
    "    alt.Y('level_0:Q',\n",
    "        scale=alt.Scale(domain=[r_high,r_low]),\n",
    "          axis =None\n",
    "    ),\n",
    "    alt.X('0:Q', \n",
    "          axis=None)\n",
    ").configure_axis(\n",
    "    grid=False\n",
    ").configure_view(\n",
    "    strokeWidth=0\n",
    ").properties(\n",
    "    height = inches*300/ratio,\n",
    "    width = inches*300\n",
    ")\n",
    "#chart.save('chart.svg')\n",
    "chart.save('chart.html')\n",
    "chart.save('chart.png', scale_factor = 2.0)\n",
    "#chart\n",
    "'''"
   ]
  },
  {
   "cell_type": "code",
   "execution_count": 44,
   "metadata": {},
   "outputs": [],
   "source": [
    "#plt.scatter(final_stacked['0'],final_stacked['level_0'])\n",
    "#plt.show()"
   ]
  },
  {
   "cell_type": "code",
   "execution_count": null,
   "metadata": {},
   "outputs": [
    {
     "name": "stdout",
     "output_type": "stream",
     "text": [
      "iteration0 of 20800\n",
      "iteration1000 of 20800\n",
      "iteration2000 of 20800\n",
      "iteration3000 of 20800\n",
      "iteration4000 of 20800\n",
      "iteration5000 of 20800\n",
      "iteration6000 of 20800\n",
      "iteration7000 of 20800\n",
      "iteration8000 of 20800\n",
      "iteration9000 of 20800\n",
      "iteration10000 of 20800\n",
      "iteration11000 of 20800\n",
      "iteration12000 of 20800\n"
     ]
    }
   ],
   "source": [
    "\n",
    "final_stacked = stack(convergance_data(r_low=r_low, r_high=r_high,n=int(inches*dpi/ratio*pdr),iterations = iterations,last=int(inches*dpi*pdr)))\n",
    "print(final_stacked.shape)"
   ]
  },
  {
   "cell_type": "code",
   "execution_count": null,
   "metadata": {},
   "outputs": [],
   "source": [
    "#final_sample = final_stacked.sample(10000)\n",
    "fig, ax = plt.subplots(num=None, \n",
    "                       figsize=(inches, inches/(ratio)),\n",
    "                       dpi=dpi\n",
    "                      )\n",
    "ax.scatter(final_stacked['0'],final_stacked['level_0'], alpha=0.2, c='#18284d', marker=\"s\", s=(72./fig.dpi)**2, edgecolor=\"None\")\n",
    "print('axis made')\n",
    "ax.invert_yaxis()\n",
    "\n",
    "ax.axis(\"off\")\n",
    "ax.grid(False)\n",
    "#fig.tight_layout()\n",
    "plt.savefig('foo.png', bbox_inches='tight')\n",
    "plt.show()\n",
    "print('axis shown')"
   ]
  },
  {
   "cell_type": "code",
   "execution_count": 39,
   "metadata": {},
   "outputs": [
    {
     "data": {
      "text/plain": [
       "<Figure size 432x288 with 0 Axes>"
      ]
     },
     "metadata": {},
     "output_type": "display_data"
    }
   ],
   "source": []
  },
  {
   "cell_type": "code",
   "execution_count": null,
   "metadata": {},
   "outputs": [],
   "source": []
  }
 ],
 "metadata": {
  "kernelspec": {
   "display_name": "Python3.7 (bifurArt)",
   "language": "python",
   "name": "bifurartvenv"
  },
  "language_info": {
   "codemirror_mode": {
    "name": "ipython",
    "version": 3
   },
   "file_extension": ".py",
   "mimetype": "text/x-python",
   "name": "python",
   "nbconvert_exporter": "python",
   "pygments_lexer": "ipython3",
   "version": "3.7.3"
  }
 },
 "nbformat": 4,
 "nbformat_minor": 4
}
